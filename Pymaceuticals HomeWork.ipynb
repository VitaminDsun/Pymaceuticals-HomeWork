{
 "cells": [
  {
   "cell_type": "markdown",
   "id": "b2364911",
   "metadata": {},
   "source": [
    "# data analysis summry:"
   ]
  },
  {
   "cell_type": "markdown",
   "id": "4f7030fa",
   "metadata": {},
   "source": [
    "after looking at the data and following the directions i had to drop the duplicated mice the way i did this was focus on the the Timepoints and Tumor Volumes (3mm). this was done so that mouse g989's data would be removed so that the data set could be analyzed correctly. the regiments of Capomulin and Ramicane seemed to have the best effect in reducing the tumor size i did also find that Capomulin worked well on the female mice more than it did with the male mice, the amounts given of each drug seemed to be about the same  aside from Capomulin and Ramicane and the duration of time given was the same in most mice Ramicane and Capomulin having been given a slightly larger amount could give the impression of being more effective because of the larger effect on the Tumor Volume, a few Limitation are sample size, a control mouse, in varying doses and times given and pre-existing conditions .\n"
   ]
  },
  {
   "cell_type": "code",
   "execution_count": 159,
   "id": "f4ea0e22",
   "metadata": {},
   "outputs": [],
   "source": [
    "# Dependencies and Setup\n",
    "import pandas as pd\n",
    "import matplotlib.pyplot as plt\n",
    "import scipy.stats as st\n",
    "from scipy.stats import linregress\n",
    "import numpy as np\n",
    "\n",
    "# Study data files\n",
    "mouse_datX = pd.read_csv(\"Data/Mouse_metadata.csv\")\n",
    "study_datX = pd.read_csv(\"Data/Study_results.csv\")\n",
    "\n",
    "# Combine the data into a single dataset\n",
    "comb_datX_df = pd.merge(mouse_datX, study_datX, on=\"Mouse ID\", how=\"outer\")"
   ]
  },
  {
   "cell_type": "code",
   "execution_count": 160,
   "id": "6baf1ba6",
   "metadata": {},
   "outputs": [
    {
     "data": {
      "text/html": [
       "<div>\n",
       "<style scoped>\n",
       "    .dataframe tbody tr th:only-of-type {\n",
       "        vertical-align: middle;\n",
       "    }\n",
       "\n",
       "    .dataframe tbody tr th {\n",
       "        vertical-align: top;\n",
       "    }\n",
       "\n",
       "    .dataframe thead th {\n",
       "        text-align: right;\n",
       "    }\n",
       "</style>\n",
       "<table border=\"1\" class=\"dataframe\">\n",
       "  <thead>\n",
       "    <tr style=\"text-align: right;\">\n",
       "      <th></th>\n",
       "      <th>Mouse ID</th>\n",
       "      <th>Drug Regimen</th>\n",
       "      <th>Sex</th>\n",
       "      <th>Age_months</th>\n",
       "      <th>Weight (g)</th>\n",
       "    </tr>\n",
       "  </thead>\n",
       "  <tbody>\n",
       "    <tr>\n",
       "      <th>0</th>\n",
       "      <td>k403</td>\n",
       "      <td>Ramicane</td>\n",
       "      <td>Male</td>\n",
       "      <td>21</td>\n",
       "      <td>16</td>\n",
       "    </tr>\n",
       "    <tr>\n",
       "      <th>1</th>\n",
       "      <td>s185</td>\n",
       "      <td>Capomulin</td>\n",
       "      <td>Female</td>\n",
       "      <td>3</td>\n",
       "      <td>17</td>\n",
       "    </tr>\n",
       "    <tr>\n",
       "      <th>2</th>\n",
       "      <td>x401</td>\n",
       "      <td>Capomulin</td>\n",
       "      <td>Female</td>\n",
       "      <td>16</td>\n",
       "      <td>15</td>\n",
       "    </tr>\n",
       "    <tr>\n",
       "      <th>3</th>\n",
       "      <td>m601</td>\n",
       "      <td>Capomulin</td>\n",
       "      <td>Male</td>\n",
       "      <td>22</td>\n",
       "      <td>17</td>\n",
       "    </tr>\n",
       "    <tr>\n",
       "      <th>4</th>\n",
       "      <td>g791</td>\n",
       "      <td>Ramicane</td>\n",
       "      <td>Male</td>\n",
       "      <td>11</td>\n",
       "      <td>16</td>\n",
       "    </tr>\n",
       "  </tbody>\n",
       "</table>\n",
       "</div>"
      ],
      "text/plain": [
       "  Mouse ID Drug Regimen     Sex  Age_months  Weight (g)\n",
       "0     k403     Ramicane    Male          21          16\n",
       "1     s185    Capomulin  Female           3          17\n",
       "2     x401    Capomulin  Female          16          15\n",
       "3     m601    Capomulin    Male          22          17\n",
       "4     g791     Ramicane    Male          11          16"
      ]
     },
     "execution_count": 160,
     "metadata": {},
     "output_type": "execute_result"
    }
   ],
   "source": [
    "#See headers for both datasets\n",
    "mouse_datX.head()"
   ]
  },
  {
   "cell_type": "code",
   "execution_count": 161,
   "id": "93f551e3",
   "metadata": {},
   "outputs": [
    {
     "data": {
      "text/html": [
       "<div>\n",
       "<style scoped>\n",
       "    .dataframe tbody tr th:only-of-type {\n",
       "        vertical-align: middle;\n",
       "    }\n",
       "\n",
       "    .dataframe tbody tr th {\n",
       "        vertical-align: top;\n",
       "    }\n",
       "\n",
       "    .dataframe thead th {\n",
       "        text-align: right;\n",
       "    }\n",
       "</style>\n",
       "<table border=\"1\" class=\"dataframe\">\n",
       "  <thead>\n",
       "    <tr style=\"text-align: right;\">\n",
       "      <th></th>\n",
       "      <th>Mouse ID</th>\n",
       "      <th>Timepoint</th>\n",
       "      <th>Tumor Volume (mm3)</th>\n",
       "      <th>Metastatic Sites</th>\n",
       "    </tr>\n",
       "  </thead>\n",
       "  <tbody>\n",
       "    <tr>\n",
       "      <th>0</th>\n",
       "      <td>b128</td>\n",
       "      <td>0</td>\n",
       "      <td>45.000000</td>\n",
       "      <td>0</td>\n",
       "    </tr>\n",
       "    <tr>\n",
       "      <th>1</th>\n",
       "      <td>f932</td>\n",
       "      <td>0</td>\n",
       "      <td>45.000000</td>\n",
       "      <td>0</td>\n",
       "    </tr>\n",
       "    <tr>\n",
       "      <th>2</th>\n",
       "      <td>g107</td>\n",
       "      <td>0</td>\n",
       "      <td>45.000000</td>\n",
       "      <td>0</td>\n",
       "    </tr>\n",
       "    <tr>\n",
       "      <th>3</th>\n",
       "      <td>a457</td>\n",
       "      <td>0</td>\n",
       "      <td>45.000000</td>\n",
       "      <td>0</td>\n",
       "    </tr>\n",
       "    <tr>\n",
       "      <th>4</th>\n",
       "      <td>c819</td>\n",
       "      <td>0</td>\n",
       "      <td>45.000000</td>\n",
       "      <td>0</td>\n",
       "    </tr>\n",
       "    <tr>\n",
       "      <th>...</th>\n",
       "      <td>...</td>\n",
       "      <td>...</td>\n",
       "      <td>...</td>\n",
       "      <td>...</td>\n",
       "    </tr>\n",
       "    <tr>\n",
       "      <th>1888</th>\n",
       "      <td>r944</td>\n",
       "      <td>45</td>\n",
       "      <td>41.581521</td>\n",
       "      <td>2</td>\n",
       "    </tr>\n",
       "    <tr>\n",
       "      <th>1889</th>\n",
       "      <td>u364</td>\n",
       "      <td>45</td>\n",
       "      <td>31.023923</td>\n",
       "      <td>3</td>\n",
       "    </tr>\n",
       "    <tr>\n",
       "      <th>1890</th>\n",
       "      <td>p438</td>\n",
       "      <td>45</td>\n",
       "      <td>61.433892</td>\n",
       "      <td>1</td>\n",
       "    </tr>\n",
       "    <tr>\n",
       "      <th>1891</th>\n",
       "      <td>x773</td>\n",
       "      <td>45</td>\n",
       "      <td>58.634971</td>\n",
       "      <td>4</td>\n",
       "    </tr>\n",
       "    <tr>\n",
       "      <th>1892</th>\n",
       "      <td>b879</td>\n",
       "      <td>45</td>\n",
       "      <td>72.555239</td>\n",
       "      <td>2</td>\n",
       "    </tr>\n",
       "  </tbody>\n",
       "</table>\n",
       "<p>1893 rows × 4 columns</p>\n",
       "</div>"
      ],
      "text/plain": [
       "     Mouse ID  Timepoint  Tumor Volume (mm3)  Metastatic Sites\n",
       "0        b128          0           45.000000                 0\n",
       "1        f932          0           45.000000                 0\n",
       "2        g107          0           45.000000                 0\n",
       "3        a457          0           45.000000                 0\n",
       "4        c819          0           45.000000                 0\n",
       "...       ...        ...                 ...               ...\n",
       "1888     r944         45           41.581521                 2\n",
       "1889     u364         45           31.023923                 3\n",
       "1890     p438         45           61.433892                 1\n",
       "1891     x773         45           58.634971                 4\n",
       "1892     b879         45           72.555239                 2\n",
       "\n",
       "[1893 rows x 4 columns]"
      ]
     },
     "execution_count": 161,
     "metadata": {},
     "output_type": "execute_result"
    }
   ],
   "source": [
    "#See headers for both datasets\n",
    "study_datX"
   ]
  },
  {
   "cell_type": "code",
   "execution_count": 162,
   "id": "42dfa4e4",
   "metadata": {
    "scrolled": true
   },
   "outputs": [
    {
     "data": {
      "text/html": [
       "<div>\n",
       "<style scoped>\n",
       "    .dataframe tbody tr th:only-of-type {\n",
       "        vertical-align: middle;\n",
       "    }\n",
       "\n",
       "    .dataframe tbody tr th {\n",
       "        vertical-align: top;\n",
       "    }\n",
       "\n",
       "    .dataframe thead th {\n",
       "        text-align: right;\n",
       "    }\n",
       "</style>\n",
       "<table border=\"1\" class=\"dataframe\">\n",
       "  <thead>\n",
       "    <tr style=\"text-align: right;\">\n",
       "      <th></th>\n",
       "      <th>Mouse ID</th>\n",
       "      <th>Drug Regimen</th>\n",
       "      <th>Sex</th>\n",
       "      <th>Age_months</th>\n",
       "      <th>Weight (g)</th>\n",
       "      <th>Timepoint</th>\n",
       "      <th>Tumor Volume (mm3)</th>\n",
       "      <th>Metastatic Sites</th>\n",
       "    </tr>\n",
       "  </thead>\n",
       "  <tbody>\n",
       "    <tr>\n",
       "      <th>0</th>\n",
       "      <td>k403</td>\n",
       "      <td>Ramicane</td>\n",
       "      <td>Male</td>\n",
       "      <td>21</td>\n",
       "      <td>16</td>\n",
       "      <td>0</td>\n",
       "      <td>45.000000</td>\n",
       "      <td>0</td>\n",
       "    </tr>\n",
       "    <tr>\n",
       "      <th>1</th>\n",
       "      <td>k403</td>\n",
       "      <td>Ramicane</td>\n",
       "      <td>Male</td>\n",
       "      <td>21</td>\n",
       "      <td>16</td>\n",
       "      <td>5</td>\n",
       "      <td>38.825898</td>\n",
       "      <td>0</td>\n",
       "    </tr>\n",
       "    <tr>\n",
       "      <th>2</th>\n",
       "      <td>k403</td>\n",
       "      <td>Ramicane</td>\n",
       "      <td>Male</td>\n",
       "      <td>21</td>\n",
       "      <td>16</td>\n",
       "      <td>10</td>\n",
       "      <td>35.014271</td>\n",
       "      <td>1</td>\n",
       "    </tr>\n",
       "    <tr>\n",
       "      <th>3</th>\n",
       "      <td>k403</td>\n",
       "      <td>Ramicane</td>\n",
       "      <td>Male</td>\n",
       "      <td>21</td>\n",
       "      <td>16</td>\n",
       "      <td>15</td>\n",
       "      <td>34.223992</td>\n",
       "      <td>1</td>\n",
       "    </tr>\n",
       "    <tr>\n",
       "      <th>4</th>\n",
       "      <td>k403</td>\n",
       "      <td>Ramicane</td>\n",
       "      <td>Male</td>\n",
       "      <td>21</td>\n",
       "      <td>16</td>\n",
       "      <td>20</td>\n",
       "      <td>32.997729</td>\n",
       "      <td>1</td>\n",
       "    </tr>\n",
       "    <tr>\n",
       "      <th>...</th>\n",
       "      <td>...</td>\n",
       "      <td>...</td>\n",
       "      <td>...</td>\n",
       "      <td>...</td>\n",
       "      <td>...</td>\n",
       "      <td>...</td>\n",
       "      <td>...</td>\n",
       "      <td>...</td>\n",
       "    </tr>\n",
       "    <tr>\n",
       "      <th>1888</th>\n",
       "      <td>z969</td>\n",
       "      <td>Naftisol</td>\n",
       "      <td>Male</td>\n",
       "      <td>9</td>\n",
       "      <td>30</td>\n",
       "      <td>25</td>\n",
       "      <td>63.145652</td>\n",
       "      <td>2</td>\n",
       "    </tr>\n",
       "    <tr>\n",
       "      <th>1889</th>\n",
       "      <td>z969</td>\n",
       "      <td>Naftisol</td>\n",
       "      <td>Male</td>\n",
       "      <td>9</td>\n",
       "      <td>30</td>\n",
       "      <td>30</td>\n",
       "      <td>65.841013</td>\n",
       "      <td>3</td>\n",
       "    </tr>\n",
       "    <tr>\n",
       "      <th>1890</th>\n",
       "      <td>z969</td>\n",
       "      <td>Naftisol</td>\n",
       "      <td>Male</td>\n",
       "      <td>9</td>\n",
       "      <td>30</td>\n",
       "      <td>35</td>\n",
       "      <td>69.176246</td>\n",
       "      <td>4</td>\n",
       "    </tr>\n",
       "    <tr>\n",
       "      <th>1891</th>\n",
       "      <td>z969</td>\n",
       "      <td>Naftisol</td>\n",
       "      <td>Male</td>\n",
       "      <td>9</td>\n",
       "      <td>30</td>\n",
       "      <td>40</td>\n",
       "      <td>70.314904</td>\n",
       "      <td>4</td>\n",
       "    </tr>\n",
       "    <tr>\n",
       "      <th>1892</th>\n",
       "      <td>z969</td>\n",
       "      <td>Naftisol</td>\n",
       "      <td>Male</td>\n",
       "      <td>9</td>\n",
       "      <td>30</td>\n",
       "      <td>45</td>\n",
       "      <td>73.867845</td>\n",
       "      <td>4</td>\n",
       "    </tr>\n",
       "  </tbody>\n",
       "</table>\n",
       "<p>1893 rows × 8 columns</p>\n",
       "</div>"
      ],
      "text/plain": [
       "     Mouse ID Drug Regimen   Sex  Age_months  Weight (g)  Timepoint  \\\n",
       "0        k403     Ramicane  Male          21          16          0   \n",
       "1        k403     Ramicane  Male          21          16          5   \n",
       "2        k403     Ramicane  Male          21          16         10   \n",
       "3        k403     Ramicane  Male          21          16         15   \n",
       "4        k403     Ramicane  Male          21          16         20   \n",
       "...       ...          ...   ...         ...         ...        ...   \n",
       "1888     z969     Naftisol  Male           9          30         25   \n",
       "1889     z969     Naftisol  Male           9          30         30   \n",
       "1890     z969     Naftisol  Male           9          30         35   \n",
       "1891     z969     Naftisol  Male           9          30         40   \n",
       "1892     z969     Naftisol  Male           9          30         45   \n",
       "\n",
       "      Tumor Volume (mm3)  Metastatic Sites  \n",
       "0              45.000000                 0  \n",
       "1              38.825898                 0  \n",
       "2              35.014271                 1  \n",
       "3              34.223992                 1  \n",
       "4              32.997729                 1  \n",
       "...                  ...               ...  \n",
       "1888           63.145652                 2  \n",
       "1889           65.841013                 3  \n",
       "1890           69.176246                 4  \n",
       "1891           70.314904                 4  \n",
       "1892           73.867845                 4  \n",
       "\n",
       "[1893 rows x 8 columns]"
      ]
     },
     "execution_count": 162,
     "metadata": {},
     "output_type": "execute_result"
    }
   ],
   "source": [
    "# Display the data table for preview\n",
    "comb_datX_df"
   ]
  },
  {
   "cell_type": "code",
   "execution_count": 163,
   "id": "fd9ec7f3",
   "metadata": {},
   "outputs": [
    {
     "data": {
      "text/plain": [
       "Mouse ID              1893\n",
       "Drug Regimen          1893\n",
       "Sex                   1893\n",
       "Age_months            1893\n",
       "Weight (g)            1893\n",
       "Timepoint             1893\n",
       "Tumor Volume (mm3)    1893\n",
       "Metastatic Sites      1893\n",
       "dtype: int64"
      ]
     },
     "execution_count": 163,
     "metadata": {},
     "output_type": "execute_result"
    }
   ],
   "source": [
    "comb_datX_df.count()"
   ]
  },
  {
   "cell_type": "code",
   "execution_count": 164,
   "id": "a89c9f12",
   "metadata": {},
   "outputs": [
    {
     "data": {
      "text/plain": [
       "249"
      ]
     },
     "execution_count": 164,
     "metadata": {},
     "output_type": "execute_result"
    }
   ],
   "source": [
    "#Calculate total Mice\n",
    "total_mouse = mouse_datX['Mouse ID'].unique()\n",
    "len(total_mouse)"
   ]
  },
  {
   "cell_type": "code",
   "execution_count": 165,
   "id": "f835db4c",
   "metadata": {},
   "outputs": [
    {
     "data": {
      "text/plain": [
       "array(['g989'], dtype=object)"
      ]
     },
     "execution_count": 165,
     "metadata": {},
     "output_type": "execute_result"
    }
   ],
   "source": [
    "#get duplicates of mouse id and timepoint\n",
    "dupl_df = comb_datX_df.loc[comb_datX_df.duplicated(subset=['Mouse ID', 'Timepoint']),'Mouse ID'].unique()\n",
    "dupl_df\n"
   ]
  },
  {
   "cell_type": "code",
   "execution_count": 166,
   "id": "92d11cba",
   "metadata": {},
   "outputs": [
    {
     "data": {
      "text/plain": [
       "Mouse ID  Drug Regimen  Sex     Age_months  Weight (g)  Timepoint  Tumor Volume (mm3)  Metastatic Sites\n",
       "g989      Propriva      Female  21          26          0          45.000000           0                   1\n",
       "                                                        5          47.570392           0                   1\n",
       "                                                        10         49.880528           0                   1\n",
       "                                                        15         53.442020           0                   1\n",
       "                                                        20         54.657650           1                   1\n",
       "dtype: int64"
      ]
     },
     "execution_count": 166,
     "metadata": {},
     "output_type": "execute_result"
    }
   ],
   "source": [
    "# Getting the duplicate mice by ID number that shows up for Mouse ID and Timepoint.\n",
    "show_duplicates = comb_datX_df[comb_datX_df.duplicated([\"Mouse ID\", \"Timepoint\"])]\n",
    "show_duplicates.value_counts()"
   ]
  },
  {
   "cell_type": "code",
   "execution_count": 167,
   "id": "3aaa1f9c",
   "metadata": {},
   "outputs": [
    {
     "data": {
      "text/html": [
       "<div>\n",
       "<style scoped>\n",
       "    .dataframe tbody tr th:only-of-type {\n",
       "        vertical-align: middle;\n",
       "    }\n",
       "\n",
       "    .dataframe tbody tr th {\n",
       "        vertical-align: top;\n",
       "    }\n",
       "\n",
       "    .dataframe thead th {\n",
       "        text-align: right;\n",
       "    }\n",
       "</style>\n",
       "<table border=\"1\" class=\"dataframe\">\n",
       "  <thead>\n",
       "    <tr style=\"text-align: right;\">\n",
       "      <th></th>\n",
       "      <th>Mouse ID</th>\n",
       "      <th>Drug Regimen</th>\n",
       "      <th>Sex</th>\n",
       "      <th>Age_months</th>\n",
       "      <th>Weight (g)</th>\n",
       "      <th>Timepoint</th>\n",
       "      <th>Tumor Volume (mm3)</th>\n",
       "      <th>Metastatic Sites</th>\n",
       "    </tr>\n",
       "  </thead>\n",
       "  <tbody>\n",
       "    <tr>\n",
       "      <th>908</th>\n",
       "      <td>g989</td>\n",
       "      <td>Propriva</td>\n",
       "      <td>Female</td>\n",
       "      <td>21</td>\n",
       "      <td>26</td>\n",
       "      <td>0</td>\n",
       "      <td>45.000000</td>\n",
       "      <td>0</td>\n",
       "    </tr>\n",
       "    <tr>\n",
       "      <th>909</th>\n",
       "      <td>g989</td>\n",
       "      <td>Propriva</td>\n",
       "      <td>Female</td>\n",
       "      <td>21</td>\n",
       "      <td>26</td>\n",
       "      <td>0</td>\n",
       "      <td>45.000000</td>\n",
       "      <td>0</td>\n",
       "    </tr>\n",
       "    <tr>\n",
       "      <th>910</th>\n",
       "      <td>g989</td>\n",
       "      <td>Propriva</td>\n",
       "      <td>Female</td>\n",
       "      <td>21</td>\n",
       "      <td>26</td>\n",
       "      <td>5</td>\n",
       "      <td>48.786801</td>\n",
       "      <td>0</td>\n",
       "    </tr>\n",
       "    <tr>\n",
       "      <th>911</th>\n",
       "      <td>g989</td>\n",
       "      <td>Propriva</td>\n",
       "      <td>Female</td>\n",
       "      <td>21</td>\n",
       "      <td>26</td>\n",
       "      <td>5</td>\n",
       "      <td>47.570392</td>\n",
       "      <td>0</td>\n",
       "    </tr>\n",
       "    <tr>\n",
       "      <th>912</th>\n",
       "      <td>g989</td>\n",
       "      <td>Propriva</td>\n",
       "      <td>Female</td>\n",
       "      <td>21</td>\n",
       "      <td>26</td>\n",
       "      <td>10</td>\n",
       "      <td>51.745156</td>\n",
       "      <td>0</td>\n",
       "    </tr>\n",
       "    <tr>\n",
       "      <th>913</th>\n",
       "      <td>g989</td>\n",
       "      <td>Propriva</td>\n",
       "      <td>Female</td>\n",
       "      <td>21</td>\n",
       "      <td>26</td>\n",
       "      <td>10</td>\n",
       "      <td>49.880528</td>\n",
       "      <td>0</td>\n",
       "    </tr>\n",
       "    <tr>\n",
       "      <th>914</th>\n",
       "      <td>g989</td>\n",
       "      <td>Propriva</td>\n",
       "      <td>Female</td>\n",
       "      <td>21</td>\n",
       "      <td>26</td>\n",
       "      <td>15</td>\n",
       "      <td>51.325852</td>\n",
       "      <td>1</td>\n",
       "    </tr>\n",
       "    <tr>\n",
       "      <th>915</th>\n",
       "      <td>g989</td>\n",
       "      <td>Propriva</td>\n",
       "      <td>Female</td>\n",
       "      <td>21</td>\n",
       "      <td>26</td>\n",
       "      <td>15</td>\n",
       "      <td>53.442020</td>\n",
       "      <td>0</td>\n",
       "    </tr>\n",
       "    <tr>\n",
       "      <th>916</th>\n",
       "      <td>g989</td>\n",
       "      <td>Propriva</td>\n",
       "      <td>Female</td>\n",
       "      <td>21</td>\n",
       "      <td>26</td>\n",
       "      <td>20</td>\n",
       "      <td>55.326122</td>\n",
       "      <td>1</td>\n",
       "    </tr>\n",
       "    <tr>\n",
       "      <th>917</th>\n",
       "      <td>g989</td>\n",
       "      <td>Propriva</td>\n",
       "      <td>Female</td>\n",
       "      <td>21</td>\n",
       "      <td>26</td>\n",
       "      <td>20</td>\n",
       "      <td>54.657650</td>\n",
       "      <td>1</td>\n",
       "    </tr>\n",
       "    <tr>\n",
       "      <th>918</th>\n",
       "      <td>g989</td>\n",
       "      <td>Propriva</td>\n",
       "      <td>Female</td>\n",
       "      <td>21</td>\n",
       "      <td>26</td>\n",
       "      <td>25</td>\n",
       "      <td>56.045564</td>\n",
       "      <td>1</td>\n",
       "    </tr>\n",
       "    <tr>\n",
       "      <th>919</th>\n",
       "      <td>g989</td>\n",
       "      <td>Propriva</td>\n",
       "      <td>Female</td>\n",
       "      <td>21</td>\n",
       "      <td>26</td>\n",
       "      <td>30</td>\n",
       "      <td>59.082294</td>\n",
       "      <td>1</td>\n",
       "    </tr>\n",
       "    <tr>\n",
       "      <th>920</th>\n",
       "      <td>g989</td>\n",
       "      <td>Propriva</td>\n",
       "      <td>Female</td>\n",
       "      <td>21</td>\n",
       "      <td>26</td>\n",
       "      <td>35</td>\n",
       "      <td>62.570880</td>\n",
       "      <td>2</td>\n",
       "    </tr>\n",
       "  </tbody>\n",
       "</table>\n",
       "</div>"
      ],
      "text/plain": [
       "    Mouse ID Drug Regimen     Sex  Age_months  Weight (g)  Timepoint  \\\n",
       "908     g989     Propriva  Female          21          26          0   \n",
       "909     g989     Propriva  Female          21          26          0   \n",
       "910     g989     Propriva  Female          21          26          5   \n",
       "911     g989     Propriva  Female          21          26          5   \n",
       "912     g989     Propriva  Female          21          26         10   \n",
       "913     g989     Propriva  Female          21          26         10   \n",
       "914     g989     Propriva  Female          21          26         15   \n",
       "915     g989     Propriva  Female          21          26         15   \n",
       "916     g989     Propriva  Female          21          26         20   \n",
       "917     g989     Propriva  Female          21          26         20   \n",
       "918     g989     Propriva  Female          21          26         25   \n",
       "919     g989     Propriva  Female          21          26         30   \n",
       "920     g989     Propriva  Female          21          26         35   \n",
       "\n",
       "     Tumor Volume (mm3)  Metastatic Sites  \n",
       "908           45.000000                 0  \n",
       "909           45.000000                 0  \n",
       "910           48.786801                 0  \n",
       "911           47.570392                 0  \n",
       "912           51.745156                 0  \n",
       "913           49.880528                 0  \n",
       "914           51.325852                 1  \n",
       "915           53.442020                 0  \n",
       "916           55.326122                 1  \n",
       "917           54.657650                 1  \n",
       "918           56.045564                 1  \n",
       "919           59.082294                 1  \n",
       "920           62.570880                 2  "
      ]
     },
     "execution_count": 167,
     "metadata": {},
     "output_type": "execute_result"
    }
   ],
   "source": [
    "# Optional: Get all the data for the duplicate mouse ID. \n",
    "dupli_df = comb_datX_df.loc[comb_datX_df['Mouse ID'] == 'g989', :] \n",
    "dupli_df"
   ]
  },
  {
   "cell_type": "code",
   "execution_count": 168,
   "id": "28048e4b",
   "metadata": {},
   "outputs": [
    {
     "data": {
      "text/plain": [
       "Int64Index([908, 909, 910, 911, 912, 913, 914, 915, 916, 917, 918, 919, 920], dtype='int64')"
      ]
     },
     "execution_count": 168,
     "metadata": {},
     "output_type": "execute_result"
    }
   ],
   "source": [
    "duple_mice_true = dupli_df.index\n",
    "duple_mice_true"
   ]
  },
  {
   "cell_type": "code",
   "execution_count": 169,
   "id": "7721d037",
   "metadata": {},
   "outputs": [],
   "source": [
    "#create df with a dropped mouse id\n",
    "dropped_mouse_dfX = comb_datX_df.drop_duplicates(subset=['Mouse ID', \"Timepoint\"], keep=False)"
   ]
  },
  {
   "cell_type": "code",
   "execution_count": 170,
   "id": "6b7c23f7",
   "metadata": {},
   "outputs": [
    {
     "data": {
      "text/plain": [
       "Mouse ID              1883\n",
       "Drug Regimen          1883\n",
       "Sex                   1883\n",
       "Age_months            1883\n",
       "Weight (g)            1883\n",
       "Timepoint             1883\n",
       "Tumor Volume (mm3)    1883\n",
       "Metastatic Sites      1883\n",
       "dtype: int64"
      ]
     },
     "execution_count": 170,
     "metadata": {},
     "output_type": "execute_result"
    }
   ],
   "source": [
    "dropped_mouse_dfX.count()"
   ]
  },
  {
   "cell_type": "code",
   "execution_count": 171,
   "id": "0d10d631",
   "metadata": {},
   "outputs": [],
   "source": [
    "#just playing with some stuff did some testing to see if worked\n",
    "#dropped_mouse_dfX.iloc[900:930] \n",
    "#dropped_mouse_dfX = comb_datX_df.loc[comb_datX_df['Mouse ID']!= 'g989']\n",
    "#comb_datX_df.head(911)\n"
   ]
  },
  {
   "cell_type": "markdown",
   "id": "8a66f372",
   "metadata": {},
   "source": [
    "#worked with classmate and TA's to get the code working "
   ]
  },
  {
   "cell_type": "code",
   "execution_count": 172,
   "id": "e2ff485d",
   "metadata": {},
   "outputs": [
    {
     "data": {
      "text/plain": [
       "249"
      ]
     },
     "execution_count": 172,
     "metadata": {},
     "output_type": "execute_result"
    }
   ],
   "source": [
    "#calculate new total of mice\n",
    "new_total_mice = dropped_mouse_dfX['Mouse ID'].nunique()\n",
    "new_total_mice\n"
   ]
  },
  {
   "cell_type": "code",
   "execution_count": 173,
   "id": "30460962",
   "metadata": {},
   "outputs": [
    {
     "data": {
      "text/plain": [
       "0       False\n",
       "1       False\n",
       "2       False\n",
       "3       False\n",
       "4       False\n",
       "        ...  \n",
       "1888    False\n",
       "1889    False\n",
       "1890    False\n",
       "1891    False\n",
       "1892    False\n",
       "Name: Mouse ID, Length: 1893, dtype: bool"
      ]
     },
     "execution_count": 173,
     "metadata": {},
     "output_type": "execute_result"
    }
   ],
   "source": [
    "# Checking the number of mice in the dropped_mouse_dfX. It should be 1893 - 10\n",
    "comb_datX_df['Mouse ID'] == 'g989'"
   ]
  },
  {
   "cell_type": "code",
   "execution_count": 174,
   "id": "5fab437a",
   "metadata": {},
   "outputs": [
    {
     "data": {
      "text/plain": [
       "0       False\n",
       "1       False\n",
       "2       False\n",
       "3       False\n",
       "4       False\n",
       "        ...  \n",
       "1888    False\n",
       "1889    False\n",
       "1890    False\n",
       "1891    False\n",
       "1892    False\n",
       "Name: Mouse ID, Length: 1883, dtype: bool"
      ]
     },
     "execution_count": 174,
     "metadata": {},
     "output_type": "execute_result"
    }
   ],
   "source": [
    "# Checking the number of mice in the dropped_mouse_dfX. It should be 1893 - 10\n",
    "dropped_mouse_dfX['Mouse ID'] == 'g989'"
   ]
  },
  {
   "cell_type": "markdown",
   "id": "57f431c9",
   "metadata": {},
   "source": [
    "## Summary Statistics"
   ]
  },
  {
   "cell_type": "code",
   "execution_count": 175,
   "id": "5b2a9233",
   "metadata": {},
   "outputs": [
    {
     "data": {
      "text/html": [
       "<div>\n",
       "<style scoped>\n",
       "    .dataframe tbody tr th:only-of-type {\n",
       "        vertical-align: middle;\n",
       "    }\n",
       "\n",
       "    .dataframe tbody tr th {\n",
       "        vertical-align: top;\n",
       "    }\n",
       "\n",
       "    .dataframe thead th {\n",
       "        text-align: right;\n",
       "    }\n",
       "</style>\n",
       "<table border=\"1\" class=\"dataframe\">\n",
       "  <thead>\n",
       "    <tr style=\"text-align: right;\">\n",
       "      <th></th>\n",
       "      <th>Mean Tumor Volume</th>\n",
       "      <th>Median Tumor Volume</th>\n",
       "      <th>Variance Tumor Volume</th>\n",
       "      <th>Standard Deviation Tumor Volume</th>\n",
       "      <th>SEM Tumor Volume</th>\n",
       "    </tr>\n",
       "    <tr>\n",
       "      <th>Drug Regimen</th>\n",
       "      <th></th>\n",
       "      <th></th>\n",
       "      <th></th>\n",
       "      <th></th>\n",
       "      <th></th>\n",
       "    </tr>\n",
       "  </thead>\n",
       "  <tbody>\n",
       "    <tr>\n",
       "      <th>Capomulin</th>\n",
       "      <td>40.6757</td>\n",
       "      <td>41.5578</td>\n",
       "      <td>24.9478</td>\n",
       "      <td>4.9948</td>\n",
       "      <td>0.3293</td>\n",
       "    </tr>\n",
       "    <tr>\n",
       "      <th>Ceftamin</th>\n",
       "      <td>52.5912</td>\n",
       "      <td>51.7762</td>\n",
       "      <td>39.2902</td>\n",
       "      <td>6.2682</td>\n",
       "      <td>0.4698</td>\n",
       "    </tr>\n",
       "    <tr>\n",
       "      <th>Infubinol</th>\n",
       "      <td>52.8848</td>\n",
       "      <td>51.8206</td>\n",
       "      <td>43.1287</td>\n",
       "      <td>6.5672</td>\n",
       "      <td>0.4922</td>\n",
       "    </tr>\n",
       "    <tr>\n",
       "      <th>Ketapril</th>\n",
       "      <td>55.2356</td>\n",
       "      <td>53.6987</td>\n",
       "      <td>68.5536</td>\n",
       "      <td>8.2797</td>\n",
       "      <td>0.6039</td>\n",
       "    </tr>\n",
       "    <tr>\n",
       "      <th>Naftisol</th>\n",
       "      <td>54.3316</td>\n",
       "      <td>52.5093</td>\n",
       "      <td>66.1735</td>\n",
       "      <td>8.1347</td>\n",
       "      <td>0.5965</td>\n",
       "    </tr>\n",
       "    <tr>\n",
       "      <th>Placebo</th>\n",
       "      <td>54.0336</td>\n",
       "      <td>52.2889</td>\n",
       "      <td>61.1681</td>\n",
       "      <td>7.8210</td>\n",
       "      <td>0.5813</td>\n",
       "    </tr>\n",
       "    <tr>\n",
       "      <th>Propriva</th>\n",
       "      <td>52.4583</td>\n",
       "      <td>50.8546</td>\n",
       "      <td>44.0537</td>\n",
       "      <td>6.6373</td>\n",
       "      <td>0.5401</td>\n",
       "    </tr>\n",
       "    <tr>\n",
       "      <th>Ramicane</th>\n",
       "      <td>40.2167</td>\n",
       "      <td>40.6732</td>\n",
       "      <td>23.4867</td>\n",
       "      <td>4.8463</td>\n",
       "      <td>0.3210</td>\n",
       "    </tr>\n",
       "    <tr>\n",
       "      <th>Stelasyn</th>\n",
       "      <td>54.2331</td>\n",
       "      <td>52.4317</td>\n",
       "      <td>59.4506</td>\n",
       "      <td>7.7104</td>\n",
       "      <td>0.5731</td>\n",
       "    </tr>\n",
       "    <tr>\n",
       "      <th>Zoniferol</th>\n",
       "      <td>53.2365</td>\n",
       "      <td>51.8185</td>\n",
       "      <td>48.5334</td>\n",
       "      <td>6.9666</td>\n",
       "      <td>0.5164</td>\n",
       "    </tr>\n",
       "  </tbody>\n",
       "</table>\n",
       "</div>"
      ],
      "text/plain": [
       "              Mean Tumor Volume  Median Tumor Volume  Variance Tumor Volume  \\\n",
       "Drug Regimen                                                                  \n",
       "Capomulin               40.6757              41.5578                24.9478   \n",
       "Ceftamin                52.5912              51.7762                39.2902   \n",
       "Infubinol               52.8848              51.8206                43.1287   \n",
       "Ketapril                55.2356              53.6987                68.5536   \n",
       "Naftisol                54.3316              52.5093                66.1735   \n",
       "Placebo                 54.0336              52.2889                61.1681   \n",
       "Propriva                52.4583              50.8546                44.0537   \n",
       "Ramicane                40.2167              40.6732                23.4867   \n",
       "Stelasyn                54.2331              52.4317                59.4506   \n",
       "Zoniferol               53.2365              51.8185                48.5334   \n",
       "\n",
       "              Standard Deviation Tumor Volume  SEM Tumor Volume  \n",
       "Drug Regimen                                                     \n",
       "Capomulin                              4.9948            0.3293  \n",
       "Ceftamin                               6.2682            0.4698  \n",
       "Infubinol                              6.5672            0.4922  \n",
       "Ketapril                               8.2797            0.6039  \n",
       "Naftisol                               8.1347            0.5965  \n",
       "Placebo                                7.8210            0.5813  \n",
       "Propriva                               6.6373            0.5401  \n",
       "Ramicane                               4.8463            0.3210  \n",
       "Stelasyn                               7.7104            0.5731  \n",
       "Zoniferol                              6.9666            0.5164  "
      ]
     },
     "execution_count": 175,
     "metadata": {},
     "output_type": "execute_result"
    }
   ],
   "source": [
    "# Generate a summary statistics table of mean, median, variance, standard deviation, and SEM of the tumor volume for each regimen\n",
    "drug_groups = dropped_mouse_dfX.groupby([\"Drug Regimen\"])\n",
    "\n",
    "\n",
    "# Use groupby and summary statistical methods to calculate the following properties of each drug regimen: \n",
    "\n",
    "Average_tumor_volume  = round(drug_groups[\"Tumor Volume (mm3)\"].mean(),4)\n",
    "\n",
    "\n",
    "# Get the median of tumor volume\n",
    "\n",
    "Median_tumor_volume = round(drug_groups[\"Tumor Volume (mm3)\"].median(),4)\n",
    "\n",
    "\n",
    "# Get the variance of tumor volume\n",
    "Variance_tumor_volume = round(drug_groups[\"Tumor Volume (mm3)\"].var(),4)\n",
    "\n",
    "\n",
    "#Get the standard deviation of tumor volume\n",
    "Sdev_tumor_volume = round(drug_groups[\"Tumor Volume (mm3)\"].std(),4)\n",
    "\n",
    "\n",
    "#Get the SEM of tumor volume\n",
    "SEM_tumor_volume = round(drug_groups[\"Tumor Volume (mm3)\"].sem(),4)\n",
    "\n",
    "\n",
    "#Create a new dataframe with new information\n",
    "Drug_Summary_DF = pd.DataFrame({ \"Mean Tumor Volume\":Average_tumor_volume, \n",
    "                                 \"Median Tumor Volume\": Median_tumor_volume, \n",
    "                                 \"Variance Tumor Volume\": Variance_tumor_volume, \n",
    "                                 \"Standard Deviation Tumor Volume\": Sdev_tumor_volume,\n",
    "                                  \"SEM Tumor Volume\":SEM_tumor_volume\n",
    "    \n",
    "    \n",
    "})\n",
    "\n",
    "Drug_Summary_DF\n",
    "\n"
   ]
  },
  {
   "cell_type": "code",
   "execution_count": 176,
   "id": "9649aaaf",
   "metadata": {},
   "outputs": [
    {
     "data": {
      "text/html": [
       "<div>\n",
       "<style scoped>\n",
       "    .dataframe tbody tr th:only-of-type {\n",
       "        vertical-align: middle;\n",
       "    }\n",
       "\n",
       "    .dataframe tbody tr th {\n",
       "        vertical-align: top;\n",
       "    }\n",
       "\n",
       "    .dataframe thead th {\n",
       "        text-align: right;\n",
       "    }\n",
       "</style>\n",
       "<table border=\"1\" class=\"dataframe\">\n",
       "  <thead>\n",
       "    <tr style=\"text-align: right;\">\n",
       "      <th></th>\n",
       "      <th>mean</th>\n",
       "      <th>median</th>\n",
       "      <th>var</th>\n",
       "      <th>std</th>\n",
       "      <th>sem</th>\n",
       "    </tr>\n",
       "    <tr>\n",
       "      <th>Drug Regimen</th>\n",
       "      <th></th>\n",
       "      <th></th>\n",
       "      <th></th>\n",
       "      <th></th>\n",
       "      <th></th>\n",
       "    </tr>\n",
       "  </thead>\n",
       "  <tbody>\n",
       "    <tr>\n",
       "      <th>Capomulin</th>\n",
       "      <td>40.676</td>\n",
       "      <td>41.558</td>\n",
       "      <td>24.948</td>\n",
       "      <td>4.995</td>\n",
       "      <td>0.329</td>\n",
       "    </tr>\n",
       "    <tr>\n",
       "      <th>Ceftamin</th>\n",
       "      <td>52.591</td>\n",
       "      <td>51.776</td>\n",
       "      <td>39.290</td>\n",
       "      <td>6.268</td>\n",
       "      <td>0.470</td>\n",
       "    </tr>\n",
       "    <tr>\n",
       "      <th>Infubinol</th>\n",
       "      <td>52.885</td>\n",
       "      <td>51.821</td>\n",
       "      <td>43.129</td>\n",
       "      <td>6.567</td>\n",
       "      <td>0.492</td>\n",
       "    </tr>\n",
       "    <tr>\n",
       "      <th>Ketapril</th>\n",
       "      <td>55.236</td>\n",
       "      <td>53.699</td>\n",
       "      <td>68.554</td>\n",
       "      <td>8.280</td>\n",
       "      <td>0.604</td>\n",
       "    </tr>\n",
       "    <tr>\n",
       "      <th>Naftisol</th>\n",
       "      <td>54.332</td>\n",
       "      <td>52.509</td>\n",
       "      <td>66.173</td>\n",
       "      <td>8.135</td>\n",
       "      <td>0.596</td>\n",
       "    </tr>\n",
       "    <tr>\n",
       "      <th>Placebo</th>\n",
       "      <td>54.034</td>\n",
       "      <td>52.289</td>\n",
       "      <td>61.168</td>\n",
       "      <td>7.821</td>\n",
       "      <td>0.581</td>\n",
       "    </tr>\n",
       "    <tr>\n",
       "      <th>Propriva</th>\n",
       "      <td>52.458</td>\n",
       "      <td>50.855</td>\n",
       "      <td>44.054</td>\n",
       "      <td>6.637</td>\n",
       "      <td>0.540</td>\n",
       "    </tr>\n",
       "    <tr>\n",
       "      <th>Ramicane</th>\n",
       "      <td>40.217</td>\n",
       "      <td>40.673</td>\n",
       "      <td>23.487</td>\n",
       "      <td>4.846</td>\n",
       "      <td>0.321</td>\n",
       "    </tr>\n",
       "    <tr>\n",
       "      <th>Stelasyn</th>\n",
       "      <td>54.233</td>\n",
       "      <td>52.432</td>\n",
       "      <td>59.451</td>\n",
       "      <td>7.710</td>\n",
       "      <td>0.573</td>\n",
       "    </tr>\n",
       "    <tr>\n",
       "      <th>Zoniferol</th>\n",
       "      <td>53.237</td>\n",
       "      <td>51.818</td>\n",
       "      <td>48.533</td>\n",
       "      <td>6.967</td>\n",
       "      <td>0.516</td>\n",
       "    </tr>\n",
       "  </tbody>\n",
       "</table>\n",
       "</div>"
      ],
      "text/plain": [
       "                mean  median     var    std    sem\n",
       "Drug Regimen                                      \n",
       "Capomulin     40.676  41.558  24.948  4.995  0.329\n",
       "Ceftamin      52.591  51.776  39.290  6.268  0.470\n",
       "Infubinol     52.885  51.821  43.129  6.567  0.492\n",
       "Ketapril      55.236  53.699  68.554  8.280  0.604\n",
       "Naftisol      54.332  52.509  66.173  8.135  0.596\n",
       "Placebo       54.034  52.289  61.168  7.821  0.581\n",
       "Propriva      52.458  50.855  44.054  6.637  0.540\n",
       "Ramicane      40.217  40.673  23.487  4.846  0.321\n",
       "Stelasyn      54.233  52.432  59.451  7.710  0.573\n",
       "Zoniferol     53.237  51.818  48.533  6.967  0.516"
      ]
     },
     "execution_count": 176,
     "metadata": {},
     "output_type": "execute_result"
    }
   ],
   "source": [
    "# Generate a summary statistics table of mean, median, variance, standard deviation, and SEM of the tumor volume for each regimen\n",
    "\n",
    "# Using the aggregation method, produce the same summary statistics in a single line\n",
    "\n",
    "Drug_Summary_DF = round(drug_groups[\"Tumor Volume (mm3)\"].agg([\"mean\", \"median\",\"var\",\"std\",\"sem\"]),3)\n",
    "\n",
    "Drug_Summary_DF"
   ]
  },
  {
   "cell_type": "code",
   "execution_count": 177,
   "id": "4ca6d6ac",
   "metadata": {},
   "outputs": [
    {
     "data": {
      "text/html": [
       "<div>\n",
       "<style scoped>\n",
       "    .dataframe tbody tr th:only-of-type {\n",
       "        vertical-align: middle;\n",
       "    }\n",
       "\n",
       "    .dataframe tbody tr th {\n",
       "        vertical-align: top;\n",
       "    }\n",
       "\n",
       "    .dataframe thead th {\n",
       "        text-align: right;\n",
       "    }\n",
       "</style>\n",
       "<table border=\"1\" class=\"dataframe\">\n",
       "  <thead>\n",
       "    <tr style=\"text-align: right;\">\n",
       "      <th></th>\n",
       "      <th>Mean Tumor-Volume</th>\n",
       "      <th>Median Tumor-Volume</th>\n",
       "      <th>Variance Tumor-Volume</th>\n",
       "      <th>Standard Dev Tumor-Volume</th>\n",
       "      <th>SM Tumor-Volume</th>\n",
       "    </tr>\n",
       "    <tr>\n",
       "      <th>Drug Regimen</th>\n",
       "      <th></th>\n",
       "      <th></th>\n",
       "      <th></th>\n",
       "      <th></th>\n",
       "      <th></th>\n",
       "    </tr>\n",
       "  </thead>\n",
       "  <tbody>\n",
       "    <tr>\n",
       "      <th>Capomulin</th>\n",
       "      <td>40.676</td>\n",
       "      <td>41.558</td>\n",
       "      <td>24.948</td>\n",
       "      <td>4.995</td>\n",
       "      <td>0.329</td>\n",
       "    </tr>\n",
       "    <tr>\n",
       "      <th>Ceftamin</th>\n",
       "      <td>52.591</td>\n",
       "      <td>51.776</td>\n",
       "      <td>39.290</td>\n",
       "      <td>6.268</td>\n",
       "      <td>0.470</td>\n",
       "    </tr>\n",
       "    <tr>\n",
       "      <th>Infubinol</th>\n",
       "      <td>52.885</td>\n",
       "      <td>51.821</td>\n",
       "      <td>43.129</td>\n",
       "      <td>6.567</td>\n",
       "      <td>0.492</td>\n",
       "    </tr>\n",
       "    <tr>\n",
       "      <th>Ketapril</th>\n",
       "      <td>55.236</td>\n",
       "      <td>53.699</td>\n",
       "      <td>68.554</td>\n",
       "      <td>8.280</td>\n",
       "      <td>0.604</td>\n",
       "    </tr>\n",
       "    <tr>\n",
       "      <th>Naftisol</th>\n",
       "      <td>54.332</td>\n",
       "      <td>52.509</td>\n",
       "      <td>66.173</td>\n",
       "      <td>8.135</td>\n",
       "      <td>0.596</td>\n",
       "    </tr>\n",
       "    <tr>\n",
       "      <th>Placebo</th>\n",
       "      <td>54.034</td>\n",
       "      <td>52.289</td>\n",
       "      <td>61.168</td>\n",
       "      <td>7.821</td>\n",
       "      <td>0.581</td>\n",
       "    </tr>\n",
       "    <tr>\n",
       "      <th>Propriva</th>\n",
       "      <td>52.458</td>\n",
       "      <td>50.855</td>\n",
       "      <td>44.054</td>\n",
       "      <td>6.637</td>\n",
       "      <td>0.540</td>\n",
       "    </tr>\n",
       "    <tr>\n",
       "      <th>Ramicane</th>\n",
       "      <td>40.217</td>\n",
       "      <td>40.673</td>\n",
       "      <td>23.487</td>\n",
       "      <td>4.846</td>\n",
       "      <td>0.321</td>\n",
       "    </tr>\n",
       "    <tr>\n",
       "      <th>Stelasyn</th>\n",
       "      <td>54.233</td>\n",
       "      <td>52.432</td>\n",
       "      <td>59.451</td>\n",
       "      <td>7.710</td>\n",
       "      <td>0.573</td>\n",
       "    </tr>\n",
       "    <tr>\n",
       "      <th>Zoniferol</th>\n",
       "      <td>53.237</td>\n",
       "      <td>51.818</td>\n",
       "      <td>48.533</td>\n",
       "      <td>6.967</td>\n",
       "      <td>0.516</td>\n",
       "    </tr>\n",
       "  </tbody>\n",
       "</table>\n",
       "</div>"
      ],
      "text/plain": [
       "              Mean Tumor-Volume  Median Tumor-Volume  Variance Tumor-Volume  \\\n",
       "Drug Regimen                                                                  \n",
       "Capomulin                40.676               41.558                 24.948   \n",
       "Ceftamin                 52.591               51.776                 39.290   \n",
       "Infubinol                52.885               51.821                 43.129   \n",
       "Ketapril                 55.236               53.699                 68.554   \n",
       "Naftisol                 54.332               52.509                 66.173   \n",
       "Placebo                  54.034               52.289                 61.168   \n",
       "Propriva                 52.458               50.855                 44.054   \n",
       "Ramicane                 40.217               40.673                 23.487   \n",
       "Stelasyn                 54.233               52.432                 59.451   \n",
       "Zoniferol                53.237               51.818                 48.533   \n",
       "\n",
       "              Standard Dev Tumor-Volume   SM Tumor-Volume  \n",
       "Drug Regimen                                               \n",
       "Capomulin                          4.995            0.329  \n",
       "Ceftamin                           6.268            0.470  \n",
       "Infubinol                          6.567            0.492  \n",
       "Ketapril                           8.280            0.604  \n",
       "Naftisol                           8.135            0.596  \n",
       "Placebo                            7.821            0.581  \n",
       "Propriva                           6.637            0.540  \n",
       "Ramicane                           4.846            0.321  \n",
       "Stelasyn                           7.710            0.573  \n",
       "Zoniferol                          6.967            0.516  "
      ]
     },
     "execution_count": 177,
     "metadata": {},
     "output_type": "execute_result"
    }
   ],
   "source": [
    "#Change names of dataframe columns\n",
    "Drug_Summary_DF = Drug_Summary_DF.rename(columns={\"mean\": \"Mean Tumor-Volume\",\n",
    "                                                  \"median\": \"Median Tumor-Volume\",\n",
    "                                                   \"var\": \"Variance Tumor-Volume\",\n",
    "                                                   \"std\":\"Standard Dev Tumor-Volume \", \n",
    "                                                   \"sem\":\"SM Tumor-Volume\"})\n",
    "Drug_Summary_DF"
   ]
  },
  {
   "cell_type": "markdown",
   "id": "96b77f40",
   "metadata": {},
   "source": [
    "## Bar and Pie Charts"
   ]
  },
  {
   "cell_type": "code",
   "execution_count": 178,
   "id": "a673bd08",
   "metadata": {},
   "outputs": [
    {
     "data": {
      "text/plain": [
       "<AxesSubplot:title={'center':'Total Msmt per Drug Regimen'}, xlabel='Drug Regimen', ylabel='Total # of Mice'>"
      ]
     },
     "execution_count": 178,
     "metadata": {},
     "output_type": "execute_result"
    },
    {
     "data": {
      "image/png": "[encoded data removed]",
      "text/plain": [
       "<Figure size 432x288 with 1 Axes>"
      ]
     },
     "metadata": {
      "needs_background": "light"
     },
     "output_type": "display_data"
    }
   ],
   "source": [
    "# Generate a bar plot showing the total number of timepoints for all mice tested for each drug regimen using Pandas.\n",
    "Drug_regimen = drug_groups[\"Mouse ID\"].count()\n",
    "drug_pdplot_1 = Drug_regimen.plot.bar( rot = 65, title = \"Total Msmt per Drug Regimen\", fontsize =12, color = \"gold\")\n",
    "drug_pdplot_1.set_xlabel(\"Drug Regimen\")\n",
    "drug_pdplot_1.set_ylabel(\"Total # of Mice\")\n",
    "plt.xlim(-0.5, len(x_axis_1))\n",
    "plt.ylim(0, 250)\n",
    "plt.grid(zorder=0, color ='gold')\n",
    "drug_pdplot_1"
   ]
  },
  {
   "cell_type": "code",
   "execution_count": 179,
   "id": "5e9cce31",
   "metadata": {},
   "outputs": [
    {
     "data": {
      "image/png": "[encoded data removed]",
      "text/plain": [
       "<Figure size 576x360 with 1 Axes>"
      ]
     },
     "metadata": {
      "needs_background": "light"
     },
     "output_type": "display_data"
    }
   ],
   "source": [
    "# Generate a bar plot showing the total number of measurements taken on each drug regimen using pyplot\n",
    "# Set x axis and tick locations\n",
    "x_axis_1 = np.arange(len(Drug_regimen))\n",
    "y_axis_1 = Drug_regimen\n",
    "\n",
    "#Make ticks \n",
    "tx = list(Drug_regimen.index.values)\n",
    "tick_locations = [value for value in x_axis_1]\n",
    "\n",
    "# Create a list indicating where to write x labels and set figure size to adjust for space\n",
    "plt.figure(figsize=(8,5))\n",
    "plt.bar(x_axis_1, y_axis_1, color ='red', alpha=0.9, align=\"center\")\n",
    "plt.xticks(tick_locations, tx, rotation=\"65\", fontsize = 12)\n",
    "\n",
    "# Set x and y limits\n",
    "plt.xlim(-0.5, len(x_axis_1))\n",
    "plt.ylim(0, 250)\n",
    "\n",
    "# Set a Title and labels\n",
    "plt.title(\"Total Msmt per Drug Regimen\",fontsize=18, fontweight='bold')\n",
    "plt.xlabel(\"Drug Regimen\", fontsize=14)\n",
    "plt.ylabel(\"Total # of Mice\",fontsize=14)\n",
    "plt.grid(zorder=0, color ='red')"
   ]
  },
  {
   "cell_type": "code",
   "execution_count": 180,
   "id": "b0530dfd",
   "metadata": {},
   "outputs": [
    {
     "data": {
      "text/plain": [
       "<matplotlib.legend.Legend at 0x25c497539a0>"
      ]
     },
     "execution_count": 180,
     "metadata": {},
     "output_type": "execute_result"
    },
    {
     "data": {
      "image/png": "[encoded data removed]",
      "text/plain": [
       "<Figure size 432x288 with 1 Axes>"
      ]
     },
     "metadata": {},
     "output_type": "display_data"
    }
   ],
   "source": [
    "# Generate a pie plot showing the distribution of female versus male mice using Pandas\n",
    "#make female and male mice \n",
    "mouse_M_F = dropped_mouse_dfX.groupby([\"Sex\"]).count()\n",
    "\n",
    "mice_pie_Chart = mouse_M_F.plot(kind=\"pie\", y='Mouse ID', title=(\"Sex Distribution in Drug Testing\"),\n",
    "                                colors = [\"orange\",\"purple\"],autopct = \"%.2f%%\",startangle=30)\n",
    "\n",
    "mice_pie_Chart.set_ylabel(\"\")\n",
    "mice_pie_Chart.legend(loc='upper right', frameon=True,)\n"
   ]
  },
  {
   "cell_type": "markdown",
   "id": "a63a1ff5",
   "metadata": {},
   "source": [
    "# Quartiles, Outliers and Boxplots"
   ]
  },
  {
   "cell_type": "code",
   "execution_count": 181,
   "id": "cc10bb0a",
   "metadata": {},
   "outputs": [
    {
     "data": {
      "text/plain": [
       "Mouse ID\n",
       "a203    45\n",
       "a251    45\n",
       "a262    45\n",
       "a275    45\n",
       "a366    30\n",
       "        ..\n",
       "z435    10\n",
       "z578    45\n",
       "z581    45\n",
       "z795    45\n",
       "z969    45\n",
       "Name: Timepoint, Length: 249, dtype: int64"
      ]
     },
     "execution_count": 181,
     "metadata": {},
     "output_type": "execute_result"
    }
   ],
   "source": [
    "# Calculate the final tumor volume of each mouse across four of the treatment regimens:  \n",
    "# Capomulin, Ramicane, Infubinol, and Ceftamin\n",
    "\n",
    "# Start by getting the last (greatest) timepoint for each mouse\n",
    "timepoint_MAX = dropped_mouse_dfX.groupby(['Mouse ID'])['Timepoint'].max()\n",
    "timepoint_MAX"
   ]
  },
  {
   "cell_type": "code",
   "execution_count": 182,
   "id": "33ce6c8b",
   "metadata": {},
   "outputs": [
    {
     "data": {
      "text/html": [
       "<div>\n",
       "<style scoped>\n",
       "    .dataframe tbody tr th:only-of-type {\n",
       "        vertical-align: middle;\n",
       "    }\n",
       "\n",
       "    .dataframe tbody tr th {\n",
       "        vertical-align: top;\n",
       "    }\n",
       "\n",
       "    .dataframe thead th {\n",
       "        text-align: right;\n",
       "    }\n",
       "</style>\n",
       "<table border=\"1\" class=\"dataframe\">\n",
       "  <thead>\n",
       "    <tr style=\"text-align: right;\">\n",
       "      <th></th>\n",
       "      <th>Mouse ID</th>\n",
       "      <th>Timepoint</th>\n",
       "      <th>Drug Regimen</th>\n",
       "      <th>Sex</th>\n",
       "      <th>Age_months</th>\n",
       "      <th>Weight (g)</th>\n",
       "      <th>Tumor Volume (mm3)</th>\n",
       "      <th>Metastatic Sites</th>\n",
       "    </tr>\n",
       "  </thead>\n",
       "  <tbody>\n",
       "    <tr>\n",
       "      <th>0</th>\n",
       "      <td>a203</td>\n",
       "      <td>45</td>\n",
       "      <td>Infubinol</td>\n",
       "      <td>Female</td>\n",
       "      <td>20</td>\n",
       "      <td>23</td>\n",
       "      <td>67.973419</td>\n",
       "      <td>2</td>\n",
       "    </tr>\n",
       "    <tr>\n",
       "      <th>1</th>\n",
       "      <td>a251</td>\n",
       "      <td>45</td>\n",
       "      <td>Infubinol</td>\n",
       "      <td>Female</td>\n",
       "      <td>21</td>\n",
       "      <td>25</td>\n",
       "      <td>65.525743</td>\n",
       "      <td>1</td>\n",
       "    </tr>\n",
       "    <tr>\n",
       "      <th>2</th>\n",
       "      <td>a262</td>\n",
       "      <td>45</td>\n",
       "      <td>Placebo</td>\n",
       "      <td>Female</td>\n",
       "      <td>17</td>\n",
       "      <td>29</td>\n",
       "      <td>70.717621</td>\n",
       "      <td>4</td>\n",
       "    </tr>\n",
       "    <tr>\n",
       "      <th>3</th>\n",
       "      <td>a275</td>\n",
       "      <td>45</td>\n",
       "      <td>Ceftamin</td>\n",
       "      <td>Female</td>\n",
       "      <td>20</td>\n",
       "      <td>28</td>\n",
       "      <td>62.999356</td>\n",
       "      <td>3</td>\n",
       "    </tr>\n",
       "    <tr>\n",
       "      <th>4</th>\n",
       "      <td>a366</td>\n",
       "      <td>30</td>\n",
       "      <td>Stelasyn</td>\n",
       "      <td>Female</td>\n",
       "      <td>16</td>\n",
       "      <td>29</td>\n",
       "      <td>63.440686</td>\n",
       "      <td>1</td>\n",
       "    </tr>\n",
       "    <tr>\n",
       "      <th>...</th>\n",
       "      <td>...</td>\n",
       "      <td>...</td>\n",
       "      <td>...</td>\n",
       "      <td>...</td>\n",
       "      <td>...</td>\n",
       "      <td>...</td>\n",
       "      <td>...</td>\n",
       "      <td>...</td>\n",
       "    </tr>\n",
       "    <tr>\n",
       "      <th>244</th>\n",
       "      <td>z435</td>\n",
       "      <td>10</td>\n",
       "      <td>Propriva</td>\n",
       "      <td>Female</td>\n",
       "      <td>12</td>\n",
       "      <td>26</td>\n",
       "      <td>48.710661</td>\n",
       "      <td>0</td>\n",
       "    </tr>\n",
       "    <tr>\n",
       "      <th>245</th>\n",
       "      <td>z578</td>\n",
       "      <td>45</td>\n",
       "      <td>Ramicane</td>\n",
       "      <td>Male</td>\n",
       "      <td>11</td>\n",
       "      <td>16</td>\n",
       "      <td>30.638696</td>\n",
       "      <td>0</td>\n",
       "    </tr>\n",
       "    <tr>\n",
       "      <th>246</th>\n",
       "      <td>z581</td>\n",
       "      <td>45</td>\n",
       "      <td>Infubinol</td>\n",
       "      <td>Female</td>\n",
       "      <td>24</td>\n",
       "      <td>25</td>\n",
       "      <td>62.754451</td>\n",
       "      <td>3</td>\n",
       "    </tr>\n",
       "    <tr>\n",
       "      <th>247</th>\n",
       "      <td>z795</td>\n",
       "      <td>45</td>\n",
       "      <td>Naftisol</td>\n",
       "      <td>Female</td>\n",
       "      <td>13</td>\n",
       "      <td>29</td>\n",
       "      <td>65.741070</td>\n",
       "      <td>3</td>\n",
       "    </tr>\n",
       "    <tr>\n",
       "      <th>248</th>\n",
       "      <td>z969</td>\n",
       "      <td>45</td>\n",
       "      <td>Naftisol</td>\n",
       "      <td>Male</td>\n",
       "      <td>9</td>\n",
       "      <td>30</td>\n",
       "      <td>73.867845</td>\n",
       "      <td>4</td>\n",
       "    </tr>\n",
       "  </tbody>\n",
       "</table>\n",
       "<p>249 rows × 8 columns</p>\n",
       "</div>"
      ],
      "text/plain": [
       "    Mouse ID  Timepoint Drug Regimen     Sex  Age_months  Weight (g)  \\\n",
       "0       a203         45    Infubinol  Female          20          23   \n",
       "1       a251         45    Infubinol  Female          21          25   \n",
       "2       a262         45      Placebo  Female          17          29   \n",
       "3       a275         45     Ceftamin  Female          20          28   \n",
       "4       a366         30     Stelasyn  Female          16          29   \n",
       "..       ...        ...          ...     ...         ...         ...   \n",
       "244     z435         10     Propriva  Female          12          26   \n",
       "245     z578         45     Ramicane    Male          11          16   \n",
       "246     z581         45    Infubinol  Female          24          25   \n",
       "247     z795         45     Naftisol  Female          13          29   \n",
       "248     z969         45     Naftisol    Male           9          30   \n",
       "\n",
       "     Tumor Volume (mm3)  Metastatic Sites  \n",
       "0             67.973419                 2  \n",
       "1             65.525743                 1  \n",
       "2             70.717621                 4  \n",
       "3             62.999356                 3  \n",
       "4             63.440686                 1  \n",
       "..                  ...               ...  \n",
       "244           48.710661                 0  \n",
       "245           30.638696                 0  \n",
       "246           62.754451                 3  \n",
       "247           65.741070                 3  \n",
       "248           73.867845                 4  \n",
       "\n",
       "[249 rows x 8 columns]"
      ]
     },
     "execution_count": 182,
     "metadata": {},
     "output_type": "execute_result"
    }
   ],
   "source": [
    "# Merge this group df with the original dataframe to get the tumor volume at the last timepoint\n",
    "timepoint_df = pd.merge(timepoint_MAX , dropped_mouse_dfX, on=([\"Mouse ID\",\"Timepoint\"]))\n",
    "timepoint_df"
   ]
  },
  {
   "cell_type": "code",
   "execution_count": 183,
   "id": "a9ddc59c",
   "metadata": {},
   "outputs": [],
   "source": [
    "# Put treatments into a list for for loop (and later for plot labels)\n",
    "treatments_1 = [\"Capomulin\", \"Ramicane\", \"Infubinol\", \"Ceftamin\"]\n",
    "\n",
    "# Create empty list to fill with tumor vol data (for plotting)\n",
    "tumor_data_X = [] \n",
    "\n",
    "    \n",
    "# Locate the rows which contain mice on each drug and get the tumor volumes\n",
    "for treatment in treatments_1:\n",
    "    tumor_regimen = timepoint_df.loc[timepoint_df[\"Drug Regimen\"] == treatment]\n",
    "    tumor_volumes= tumor_regimen['Tumor Volume (mm3)']\n",
    "    \n",
    "    tumor_data_X.append(tumor_volumes)\n",
    " \n"
   ]
  },
  {
   "cell_type": "code",
   "execution_count": 184,
   "id": "d9385b00",
   "metadata": {},
   "outputs": [],
   "source": [
    "# Calculate the IQR and quantitatively determine if there are any potential outliers.\n",
    "\n",
    "#quartile(0)\n",
    "\n",
    "quartile0 = tumor_data_X[0].quantile([.25,.5,.75])\n",
    "lowerq0 = quartile0[0.25]\n",
    "upperq0 = quartile0[0.75]\n",
    "IQR0 = upperq0-lowerq0"
   ]
  },
  {
   "cell_type": "code",
   "execution_count": 185,
   "id": "5f1d41d4",
   "metadata": {},
   "outputs": [],
   "source": [
    "#quartile(1)\n",
    "quartile1 = tumor_data_X[1].quantile([.25,.5,.75])\n",
    "lowerq1 = quartile1[0.25]\n",
    "upperq1 = quartile1[0.75]\n",
    "IQR1 = upperq1-lowerq1"
   ]
  },
  {
   "cell_type": "code",
   "execution_count": 186,
   "id": "45134a3e",
   "metadata": {},
   "outputs": [],
   "source": [
    "#quartile(2)\n",
    "quartile2 = tumor_data_X[2].quantile([.25,.5,.75])\n",
    "lowerq2 = quartile2[0.25]\n",
    "upperq2 = quartile2[0.75]\n",
    "IQR2 = upperq2-lowerq2"
   ]
  },
  {
   "cell_type": "code",
   "execution_count": 187,
   "id": "2dc5cd96",
   "metadata": {},
   "outputs": [],
   "source": [
    "#quartile(3)\n",
    "quartile3 = tumor_data_X[3].quantile([.25,.5,.75])\n",
    "lowerq3 = quartile3[0.25]\n",
    "upperq3 = quartile3[0.75]\n",
    "IQR3 = upperq3-lowerq3\n",
    "    "
   ]
  },
  {
   "cell_type": "code",
   "execution_count": 188,
   "id": "dcc10bf1",
   "metadata": {},
   "outputs": [],
   "source": [
    "#Determine outliers using upper and lower bounds\n",
    "\n",
    "#quartile(0) upper and lower bounds\n",
    "lower_bound0 = lowerq0 - (1.5*IQR0)\n",
    "upper_bound0 = upperq0 + (1.5*IQR0)"
   ]
  },
  {
   "cell_type": "code",
   "execution_count": 189,
   "id": "2d738c41",
   "metadata": {},
   "outputs": [],
   "source": [
    "#quartile(1) upper and lower bounds\n",
    "lower_bound1 = lowerq1 - (1.5*IQR1)\n",
    "upper_bound1 = upperq1 + (1.5*IQR1)"
   ]
  },
  {
   "cell_type": "code",
   "execution_count": 190,
   "id": "b6e2d0a5",
   "metadata": {},
   "outputs": [],
   "source": [
    "#quartile(2) upper and lower bounds\n",
    "lower_bound2 = lowerq2 - (1.5*IQR2)\n",
    "upper_bound2 = upperq2 + (1.5*IQR2)"
   ]
  },
  {
   "cell_type": "code",
   "execution_count": 191,
   "id": "1952d418",
   "metadata": {},
   "outputs": [],
   "source": [
    "#quartile(3) upper and lower bounds\n",
    "lower_bound3 = lowerq3 - (1.5*IQR3)\n",
    "upper_bound3 = upperq3 + (1.5*IQR3)"
   ]
  },
  {
   "cell_type": "code",
   "execution_count": 192,
   "id": "e64d3c52",
   "metadata": {},
   "outputs": [
    {
     "name": "stdout",
     "output_type": "stream",
     "text": [
      "For Capomulin values below 20.70456164999999 and above 51.83201549 could be outliers\n",
      "For Ramicane values below 17.912664470000003 and above 54.30681135 could be outliers\n",
      "For Infubinol values below 36.83290494999999 and above 82.74144559000001 could be outliers\n",
      "For Ceftamin values below 25.355449580000002 and above 87.66645829999999 could be outliers\n",
      "Number of ['Capomulin', 'Ramicane', 'Infubinol', 'Ceftamin'] outliers: 0\n"
     ]
    }
   ],
   "source": [
    "outliers_count = (tumor_volumes.loc[(timepoint_df['Tumor Volume (mm3)'] >= upper_bound3) | \n",
    "                                        (timepoint_df['Tumor Volume (mm3)'] <= lower_bound0)]).count()\n",
    "\n",
    "#Print values \n",
    "print(f\"For {treatments_1[0]} values below {lower_bound0} and above {upper_bound0} could be outliers\")\n",
    "print(f\"For {treatments_1[1]} values below {lower_bound1} and above {upper_bound1} could be outliers\")\n",
    "print(f\"For {treatments_1[2]} values below {lower_bound2} and above {upper_bound2} could be outliers\")\n",
    "print(f\"For {treatments_1[3]} values below {lower_bound3} and above {upper_bound3} could be outliers\")\n",
    "print(f'Number of {treatments_1} outliers: {outliers_count}')"
   ]
  },
  {
   "cell_type": "code",
   "execution_count": 193,
   "id": "d024897c",
   "metadata": {},
   "outputs": [
    {
     "data": {
      "image/png": "[encoded data removed]",
      "text/plain": [
       "<Figure size 432x288 with 1 Axes>"
      ]
     },
     "metadata": {
      "needs_background": "light"
     },
     "output_type": "display_data"
    }
   ],
   "source": [
    "BoxPlot = dict(marker='*', markerfacecolor='y', markersize=12,\n",
    "                  linestyle='none')\n",
    "fig1, ax1 = plt.subplots()\n",
    "ax1.set_title('Tumor growth by treatment')\n",
    "ax1.set_ylabel('Growth (mm3)')\n",
    "ax1.set_xlabel(\"Drug Regimen\")\n",
    "ax1.boxplot(tumor_data_X, flierprops  = BoxPlot , labels = treatments_1)\n",
    "#plt.grid(zorder=1, color ='black')\n",
    "plt.show()"
   ]
  },
  {
   "cell_type": "markdown",
   "id": "c95436ad",
   "metadata": {},
   "source": [
    "## Line and Scatter Plots"
   ]
  },
  {
   "cell_type": "code",
   "execution_count": 194,
   "id": "8bc5a607",
   "metadata": {},
   "outputs": [
    {
     "data": {
      "text/plain": [
       "Mouse ID\n",
       "b128    10\n",
       "b742    10\n",
       "x401    10\n",
       "w914    10\n",
       "v923    10\n",
       "u364    10\n",
       "t565    10\n",
       "s710    10\n",
       "s185    10\n",
       "r944    10\n",
       "r554    10\n",
       "m957    10\n",
       "m601    10\n",
       "l897    10\n",
       "l509    10\n",
       "j119    10\n",
       "i738    10\n",
       "i557    10\n",
       "g316    10\n",
       "g288    10\n",
       "y793    10\n",
       "j246     8\n",
       "f966     5\n",
       "r157     4\n",
       "w150     3\n",
       "dtype: int64"
      ]
     },
     "execution_count": 194,
     "metadata": {},
     "output_type": "execute_result"
    }
   ],
   "source": [
    "# Generate a line plot of tumor volume vs. time point for a mouse treated with Capomulin\n",
    "Mice_Line = dropped_mouse_dfX.loc[dropped_mouse_dfX[\"Drug Regimen\"] == \"Capomulin\"]\n",
    "Mice_Line.value_counts(\"Mouse ID\")\n",
    "                                  "
   ]
  },
  {
   "cell_type": "code",
   "execution_count": 195,
   "id": "3b8b4f29",
   "metadata": {},
   "outputs": [],
   "source": [
    "#Chose mice g288 \n",
    "Mouse_g288 = dropped_mouse_dfX.loc[dropped_mouse_dfX[\"Mouse ID\"] == \"g288\"]"
   ]
  },
  {
   "cell_type": "code",
   "execution_count": 196,
   "id": "fb6c101d",
   "metadata": {},
   "outputs": [],
   "source": [
    "#Chose mice g288 \n",
    "Mouse_x401 = dropped_mouse_dfX.loc[dropped_mouse_dfX[\"Mouse ID\"] == \"x401\"]"
   ]
  },
  {
   "cell_type": "code",
   "execution_count": 197,
   "id": "c36f03ac",
   "metadata": {},
   "outputs": [
    {
     "data": {
      "image/png": "[encoded data removed]",
      "text/plain": [
       "<Figure size 432x288 with 1 Axes>"
      ]
     },
     "metadata": {
      "needs_background": "light"
     },
     "output_type": "display_data"
    }
   ],
   "source": [
    "# Generate a line plot of tumor volume vs. time point for a mouse treated with Capomulin\n",
    "\n",
    "#Make variables to plot \n",
    "tumor_y = Mouse_g288[\"Tumor Volume (mm3)\"]\n",
    "time_Point = Mouse_g288[\"Timepoint\"]\n",
    "\n",
    "tumor_y1 = Mouse_x401[\"Tumor Volume (mm3)\"]\n",
    "time_Point1 = Mouse_x401[\"Timepoint\"]\n",
    "\n",
    "# Plot line \n",
    "plt.plot(time_Point, tumor_y, color=\"red\", label=\"Tumor volume Mouse g288 Male\", linestyle = \"solid\")\n",
    "plt.plot(time_Point1, tumor_y1, color=\"blue\", label=\"Tumor volume Mouse_x401 Female\", linestyle = \"solid\")\n",
    "plt.legend(loc=\"upper right\")\n",
    "\n",
    "#Give titles and labels to graph\n",
    "plt.title( \"Mouse g288 & x401 tumor volume over time\")\n",
    "plt.xlabel(\"Timepoint (Days)\")\n",
    "plt.xticks(np.arange(min(time_Point), max(tumor_y)+1, 10))\n",
    "plt.xticks(np.arange(min(time_Point1), max(tumor_y1)+1, 10))\n",
    "plt.ylabel(\"Tumor volume (mm3)\")\n",
    "plt.grid(zorder=0, color ='black')\n",
    "\n",
    "# Print our chart to the screen\n",
    "plt.show()"
   ]
  },
  {
   "cell_type": "code",
   "execution_count": 198,
   "id": "6493a483",
   "metadata": {
    "scrolled": true
   },
   "outputs": [
    {
     "data": {
      "text/plain": [
       "(    Mouse ID Drug Regimen   Sex  Age_months  Weight (g)  Timepoint  \\\n",
       " 235     g288    Capomulin  Male           3          19          0   \n",
       " 236     g288    Capomulin  Male           3          19          5   \n",
       " 237     g288    Capomulin  Male           3          19         10   \n",
       " 238     g288    Capomulin  Male           3          19         15   \n",
       " 239     g288    Capomulin  Male           3          19         20   \n",
       " 240     g288    Capomulin  Male           3          19         25   \n",
       " 241     g288    Capomulin  Male           3          19         30   \n",
       " 242     g288    Capomulin  Male           3          19         35   \n",
       " 243     g288    Capomulin  Male           3          19         40   \n",
       " 244     g288    Capomulin  Male           3          19         45   \n",
       " \n",
       "      Tumor Volume (mm3)  Metastatic Sites  \n",
       " 235           45.000000                 0  \n",
       " 236           45.839400                 0  \n",
       " 237           46.304003                 1  \n",
       " 238           42.172301                 1  \n",
       " 239           42.957120                 1  \n",
       " 240           42.368692                 1  \n",
       " 241           42.874461                 1  \n",
       " 242           38.954115                 1  \n",
       " 243           36.356851                 1  \n",
       " 244           37.074024                 1  ,\n",
       "    Mouse ID Drug Regimen     Sex  Age_months  Weight (g)  Timepoint  \\\n",
       " 20     x401    Capomulin  Female          16          15          0   \n",
       " 21     x401    Capomulin  Female          16          15          5   \n",
       " 22     x401    Capomulin  Female          16          15         10   \n",
       " 23     x401    Capomulin  Female          16          15         15   \n",
       " 24     x401    Capomulin  Female          16          15         20   \n",
       " 25     x401    Capomulin  Female          16          15         25   \n",
       " 26     x401    Capomulin  Female          16          15         30   \n",
       " 27     x401    Capomulin  Female          16          15         35   \n",
       " 28     x401    Capomulin  Female          16          15         40   \n",
       " 29     x401    Capomulin  Female          16          15         45   \n",
       " \n",
       "     Tumor Volume (mm3)  Metastatic Sites  \n",
       " 20           45.000000                 0  \n",
       " 21           45.473753                 0  \n",
       " 22           39.113891                 0  \n",
       " 23           39.776250                 0  \n",
       " 24           36.065835                 0  \n",
       " 25           36.617120                 0  \n",
       " 26           32.915292                 0  \n",
       " 27           30.206825                 0  \n",
       " 28           28.167397                 0  \n",
       " 29           28.484033                 0  )"
      ]
     },
     "execution_count": 198,
     "metadata": {},
     "output_type": "execute_result"
    }
   ],
   "source": [
    "Mouse_g288,Mouse_x401"
   ]
  },
  {
   "cell_type": "code",
   "execution_count": 199,
   "id": "191d6d1b",
   "metadata": {},
   "outputs": [],
   "source": [
    "# Calculate the correlation coefficient and linear regression model for mouse weight and average tumor volume for the Capomulin regimen\n",
    "#All capomulin mice are in cap_mice ( used for the previous excercise)\n",
    "capomulin_group =Mice_Line.groupby([\"Mouse ID\"]).mean()\n",
    "capomulin_group.head()\n",
    "\n",
    "#Get average tumor volumen\n",
    "avg_tumor_volume = capomulin_group[\"Weight (g)\"]\n",
    "avg_weight = capomulin_group[\"Tumor Volume (mm3)\"]"
   ]
  },
  {
   "cell_type": "code",
   "execution_count": 200,
   "id": "977212a8",
   "metadata": {},
   "outputs": [
    {
     "data": {
      "text/plain": [
       "Text(0, 0.5, 'Tumor volume in (mm3)')"
      ]
     },
     "execution_count": 200,
     "metadata": {},
     "output_type": "execute_result"
    },
    {
     "data": {
      "image/png": "[encoded data removed]",
      "text/plain": [
       "<Figure size 432x288 with 1 Axes>"
      ]
     },
     "metadata": {
      "needs_background": "light"
     },
     "output_type": "display_data"
    }
   ],
   "source": [
    "# Generate a scatter plot of average tumor volume vs. mouse weight for the Capomulin regimen\n",
    "plt.scatter(avg_tumor_volume, avg_weight, marker=\"x\", facecolors=\"blue\", s=avg_tumor_vol)\n",
    "#plt.grid(zorder=.5, color ='black',) alpha=0.9\n",
    "\n",
    "#Add title and labels to scatter plot \n",
    "plt.title( \"Average tumor size (in VOL) vs. mouse weight M/F\")\n",
    "plt.xlabel(\"Mouse weight in (g)\")\n",
    "plt.ylabel(\"Tumor volume in (mm3)\")"
   ]
  },
  {
   "cell_type": "markdown",
   "id": "50a5db33",
   "metadata": {},
   "source": [
    "## Correlation and Regression"
   ]
  },
  {
   "cell_type": "code",
   "execution_count": 201,
   "id": "d7c4cdba",
   "metadata": {},
   "outputs": [],
   "source": [
    "# Calculate the correlation coefficient and linear regression model "
   ]
  },
  {
   "cell_type": "code",
   "execution_count": 207,
   "id": "2cbb9267",
   "metadata": {},
   "outputs": [
    {
     "name": "stdout",
     "output_type": "stream",
     "text": [
      "correlation between the two factors is 0.84\n",
      "The r-squared is: 0.7088568047708723\n",
      "y = 0.95x + 21.55\n"
     ]
    },
    {
     "data": {
      "image/png": "[encoded data removed]",
      "text/plain": [
       "<Figure size 432x288 with 1 Axes>"
      ]
     },
     "metadata": {
      "needs_background": "light"
     },
     "output_type": "display_data"
    }
   ],
   "source": [
    "# for mouse weight and average tumor volume for the Capomulin regimen\n",
    "#Add title and labels to scatter plot \n",
    "plt.title( \"Average tumor size (in VOL) vs. mouse weight M\")\n",
    "plt.xlabel(\"Mouse weight in (g)\")\n",
    "plt.ylabel(\"Tumor volume in (mm3)\")\n",
    "line_eq = \"y = \" + str(round(slope,2)) + \"x + \" + str(round(intercept,2))\n",
    "plt.annotate(line_eq,(5,10),fontsize=15,color=\"red\")\n",
    "\n",
    "#Use the same scatterplot made before \n",
    "#Change colors \n",
    "plt.scatter(avg_tumor_volume, avg_weight, marker=\"x\", facecolors=\"blue\", s=avg_tumor_volume)\n",
    "plt.plot(avg_tumor_volume,regress_values,\"b-\")\n",
    "plt.annotate(line_eq,(20,35),fontsize=12,color=\"darkblue\")\n",
    "\n",
    "# Equations for correlation and regression\n",
    "Correlation = st.pearsonr(avg_tumor_volume,avg_weight)\n",
    "(slope, intercept, rvalue, pvalue, stderr) = linregress(avg_tumor_volume, avg_weight)\n",
    "regress_values = avg_tumor_volume * slope + intercept\n",
    "\n",
    "\n",
    "print(f\"correlation between the two factors is {round(Correlation[0],2)}\")\n",
    "print(f\"The r-squared is: {rvalue**2}\")\n",
    "print(line_eq)"
   ]
  },
  {
   "cell_type": "code",
   "execution_count": null,
   "id": "c50643cf",
   "metadata": {},
   "outputs": [],
   "source": []
  },
  {
   "cell_type": "code",
   "execution_count": null,
   "id": "ea43843f",
   "metadata": {},
   "outputs": [],
   "source": []
  },
  {
   "cell_type": "code",
   "execution_count": null,
   "id": "49b8b043",
   "metadata": {},
   "outputs": [],
   "source": []
  }
 ],
 "metadata": {
  "kernelspec": {
   "display_name": "Python 3 (ipykernel)",
   "language": "python",
   "name": "python3"
  },
  "language_info": {
   "codemirror_mode": {
    "name": "ipython",
    "version": 3
   },
   "file_extension": ".py",
   "mimetype": "text/x-python",
   "name": "python",
   "nbconvert_exporter": "python",
   "pygments_lexer": "ipython3",
   "version": "3.8.13"
  },
  "vscode": {
   "interpreter": {
    "hash": "5109968b160d7309e95471e9f13464207a0758e110780444ab45f2da0496ec6f"
   }
  }
 },
 "nbformat": 4,
 "nbformat_minor": 5
}
